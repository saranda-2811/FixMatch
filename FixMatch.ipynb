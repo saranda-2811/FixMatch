{
  "nbformat": 4,
  "nbformat_minor": 0,
  "metadata": {
    "colab": {
      "name": "FixMatch.ipynb",
      "provenance": [],
      "collapsed_sections": []
    },
    "kernelspec": {
      "name": "python3",
      "display_name": "Python 3"
    }
  },
  "cells": [
    {
      "cell_type": "code",
      "metadata": {
        "id": "lCRrpGML6V99"
      },
      "source": [
        "import numpy as np\r\n",
        "import pandas as pd\r\n",
        "import keras\r\n",
        "import tensorflow as tf"
      ],
      "execution_count": null,
      "outputs": []
    },
    {
      "cell_type": "code",
      "metadata": {
        "colab": {
          "base_uri": "https://localhost:8080/"
        },
        "id": "IddqijsR6nmM",
        "outputId": "f4f8774f-370c-48db-de84-bbf651612916"
      },
      "source": [
        "from google.colab import drive\r\n",
        "drive.mount('/content/gdrive')"
      ],
      "execution_count": null,
      "outputs": [
        {
          "output_type": "stream",
          "text": [
            "Mounted at /content/gdrive\n"
          ],
          "name": "stdout"
        }
      ]
    },
    {
      "cell_type": "code",
      "metadata": {
        "colab": {
          "base_uri": "https://localhost:8080/"
        },
        "id": "Hk2rBZ3nBer_",
        "outputId": "d93b8dc2-dfab-4add-9d9d-d0c2927afaac"
      },
      "source": [
        "%cd /content/gdrive/My Drive/Colab Notebooks"
      ],
      "execution_count": null,
      "outputs": [
        {
          "output_type": "stream",
          "text": [
            "/content/gdrive/My Drive/Colab Notebooks\n"
          ],
          "name": "stdout"
        }
      ]
    },
    {
      "cell_type": "code",
      "metadata": {
        "id": "_qlu8R3HBnuO"
      },
      "source": [
        "imgs_zip = '/content/gdrive/My Drive/Colab Notebooks/animals-10.zip' "
      ],
      "execution_count": null,
      "outputs": []
    },
    {
      "cell_type": "code",
      "metadata": {
        "colab": {
          "base_uri": "https://localhost:8080/"
        },
        "id": "nGFaat0tBu5t",
        "outputId": "9654d666-c533-44d9-c58e-dd030ba846eb"
      },
      "source": [
        "#Extract the zip files\r\n",
        "from zipfile import ZipFile\r\n",
        "zip_file = imgs_zip\r\n",
        "with ZipFile(zip_file, 'r') as zf:\r\n",
        "   #Extracting the files from zip file\r\n",
        "   zf.extractall()\r\n",
        "   print('Zip Extraction Completed')"
      ],
      "execution_count": null,
      "outputs": [
        {
          "output_type": "stream",
          "text": [
            "Zip Extraction Completed\n"
          ],
          "name": "stdout"
        }
      ]
    },
    {
      "cell_type": "code",
      "metadata": {
        "id": "uPBz1HGSHMvY"
      },
      "source": [
        "img_path = '/content/gdrive/My Drive/Colab Notebooks/raw-img' "
      ],
      "execution_count": null,
      "outputs": []
    },
    {
      "cell_type": "code",
      "metadata": {
        "id": "6YGhn5wIHWLh"
      },
      "source": [
        "#the dataset is in italian, so translating labels to english\r\n",
        "translate = {\"cane\": \"Dog\", \"cavallo\": \"Horse\", \"elefante\": \"Elephant\", \"farfalla\": \"Butterfly\", \"gallina\": \"Chicken\", \"gatto\": \"Cat\", \"mucca\": \"Cow\", \"pecora\": \"Sheep\", \"scoiattolo\": \"Squirrel\", \"ragno\": \"Spider\"}"
      ],
      "execution_count": null,
      "outputs": []
    },
    {
      "cell_type": "code",
      "metadata": {
        "colab": {
          "base_uri": "https://localhost:8080/"
        },
        "id": "eAviNwp4Hl43",
        "outputId": "e435faa3-f339-478f-b4cf-02664fc25576"
      },
      "source": [
        "import os\r\n",
        "animal = []\r\n",
        "eng_label = []\r\n",
        "a = os.listdir(img_path)\r\n",
        "for i in a:\r\n",
        "  print(translate[i])\r\n",
        "  animal.append(i)\r\n",
        "  eng_label.append(translate[i]) "
      ],
      "execution_count": null,
      "outputs": [
        {
          "output_type": "stream",
          "text": [
            "Dog\n",
            "Horse\n",
            "Elephant\n",
            "Butterfly\n",
            "Chicken\n",
            "Cat\n",
            "Cow\n",
            "Sheep\n",
            "Spider\n",
            "Squirrel\n"
          ],
          "name": "stdout"
        }
      ]
    },
    {
      "cell_type": "code",
      "metadata": {
        "colab": {
          "base_uri": "https://localhost:8080/"
        },
        "id": "6wAyvYhQKcHg",
        "outputId": "e10e8819-3a46-498c-d0d7-bc59dc8328ed"
      },
      "source": [
        "for i in a:\r\n",
        "  print(len(os.listdir(img_path+'/'+i)))  "
      ],
      "execution_count": null,
      "outputs": [
        {
          "output_type": "stream",
          "text": [
            "4863\n",
            "2623\n",
            "1446\n",
            "2112\n",
            "3098\n",
            "1668\n",
            "1866\n",
            "1820\n",
            "4821\n",
            "1862\n"
          ],
          "name": "stdout"
        }
      ]
    },
    {
      "cell_type": "markdown",
      "metadata": {
        "id": "OUtAjKuoVmef"
      },
      "source": [
        "Supervised learning using 500 images from each category using cross-entropy loss\r\n",
        "\r\n",
        "Then image processing is done\r\n",
        "1. **weak augmentation** of images, then pass the images to the already trained supervised model(argmax)\r\n",
        "  1. Flip images randomly by probability of 50% (this is only skipped in SVHN already dataset)\r\n",
        "  2. Randomly translate images by up to 12.5%, vertically and horizontally.\r\n",
        "\r\n",
        "2. **strong augmention** of images\r\n",
        "  1. AutoAugment: RandAugment and CTAugment\r\n",
        "  2. Cutout\r\n",
        "Then pass the augmented images to the already trained supervised model\r\n",
        "and then this output and the output using weakly augmented images are compared\r\n",
        "\r\n",
        "3. Final loss minimization "
      ]
    }
  ]
}